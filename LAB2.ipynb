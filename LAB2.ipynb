{
 "cells": [
  {
   "cell_type": "code",
   "execution_count": 1,
   "metadata": {},
   "outputs": [
    {
     "name": "stdout",
     "output_type": "stream",
     "text": [
      "\n",
      "--- Employee Information ---\n",
      "Name       : Nischal Chaudhary\n",
      "Age        : 21\n",
      "Department : BE computer\n",
      "Position   : Student\n",
      "Salary     : 0\n"
     ]
    }
   ],
   "source": [
    "# Program to take employee information and display it\n",
    "\n",
    "# Taking employee information from the user\n",
    "name = input(\"Enter the employee's name: \")\n",
    "age = input(\"Enter the employee's age: \")\n",
    "department = input(\"Enter the employee's department: \")\n",
    "position = input(\"Enter the employee's position: \")\n",
    "salary = input(\"Enter the employee's salary: \")\n",
    "\n",
    "# Displaying the employee information\n",
    "print(\"\\n--- Employee Information ---\")\n",
    "print(f\"Name       : {name}\")\n",
    "print(f\"Age        : {age}\")\n",
    "print(f\"Department : {department}\")\n",
    "print(f\"Position   : {position}\")\n",
    "print(f\"Salary     : {salary}\")\n"
   ]
  },
  {
   "cell_type": "code",
   "execution_count": 3,
   "metadata": {},
   "outputs": [
    {
     "name": "stdout",
     "output_type": "stream",
     "text": [
      "\n",
      "--- Student Information ---\n",
      "Name        : Nischal Chauhdary\n",
      "Roll Number : 7              \n",
      "Course      : Python         \n",
      "Year        : 2nd            \n",
      "Marks       : 45             \n"
     ]
    }
   ],
   "source": [
    "# Program to display student information in a formatted way\n",
    "\n",
    "# Taking student information from the user\n",
    "student_name = input(\"Enter the student's name: \")\n",
    "roll_number = input(\"Enter the student's roll number: \")\n",
    "course = input(\"Enter the student's course: \")\n",
    "year = input(\"Enter the year of study: \")\n",
    "marks = input(\"Enter the marks obtained: \")\n",
    "\n",
    "# Formatting and displaying the student information\n",
    "print(\"\\n--- Student Information ---\")\n",
    "print(f\"Name        : {student_name:<1}\")\n",
    "print(f\"Roll Number : {roll_number:<15}\")\n",
    "print(f\"Course      : {course:<15}\")\n",
    "print(f\"Year        : {year:<15}\")\n",
    "print(f\"Marks       : {marks:<15}\")\n"
   ]
  },
  {
   "cell_type": "markdown",
   "metadata": {},
   "source": []
  }
 ],
 "metadata": {
  "kernelspec": {
   "display_name": "Python 3",
   "language": "python",
   "name": "python3"
  },
  "language_info": {
   "codemirror_mode": {
    "name": "ipython",
    "version": 3
   },
   "file_extension": ".py",
   "mimetype": "text/x-python",
   "name": "python",
   "nbconvert_exporter": "python",
   "pygments_lexer": "ipython3",
   "version": "3.12.5"
  }
 },
 "nbformat": 4,
 "nbformat_minor": 2
}
